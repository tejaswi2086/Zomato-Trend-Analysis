{
 "cells": [
  {
   "cell_type": "code",
   "execution_count": 5,
   "id": "6567c1d0-aaee-479d-876d-818cf053a509",
   "metadata": {},
   "outputs": [],
   "source": [
    "import numpy as np\n",
    "import pandas as pd\n",
    "import matplotlib.pyplot as plt\n",
    "import seaborn as sns"
   ]
  },
  {
   "cell_type": "code",
   "execution_count": 6,
   "id": "39498d93-84ed-4ff2-97f0-e7c41532c6f3",
   "metadata": {},
   "outputs": [],
   "source": [
    "##read the files\n",
    "\n",
    "import pandas as pd\n",
    "\n",
    "df_zomato = pd.read_csv(\"C:\\\\Users\\\\tejaswi raj\\\\Desktop\\\\pandas\\\\zomato.csv\", encoding='latin1')\n",
    "\n",
    "df_countryCode = pd.read_excel(\"C:\\\\Users\\\\tejaswi raj\\\\Desktop\\\\pandas\\\\Country-code.xlsx\")\n"
   ]
  },
  {
   "cell_type": "code",
   "execution_count": 7,
   "id": "520749a3-7b7b-49ee-a5a3-ed145a44e1e4",
   "metadata": {},
   "outputs": [
    {
     "data": {
      "text/html": [
       "<div>\n",
       "<style scoped>\n",
       "    .dataframe tbody tr th:only-of-type {\n",
       "        vertical-align: middle;\n",
       "    }\n",
       "\n",
       "    .dataframe tbody tr th {\n",
       "        vertical-align: top;\n",
       "    }\n",
       "\n",
       "    .dataframe thead th {\n",
       "        text-align: right;\n",
       "    }\n",
       "</style>\n",
       "<table border=\"1\" class=\"dataframe\">\n",
       "  <thead>\n",
       "    <tr style=\"text-align: right;\">\n",
       "      <th></th>\n",
       "      <th>Restaurant ID</th>\n",
       "      <th>Restaurant Name</th>\n",
       "      <th>Country Code</th>\n",
       "      <th>City</th>\n",
       "      <th>Address</th>\n",
       "      <th>Locality</th>\n",
       "      <th>Locality Verbose</th>\n",
       "      <th>Longitude</th>\n",
       "      <th>Latitude</th>\n",
       "      <th>Cuisines</th>\n",
       "      <th>...</th>\n",
       "      <th>Currency</th>\n",
       "      <th>Has Table booking</th>\n",
       "      <th>Has Online delivery</th>\n",
       "      <th>Is delivering now</th>\n",
       "      <th>Switch to order menu</th>\n",
       "      <th>Price range</th>\n",
       "      <th>Aggregate rating</th>\n",
       "      <th>Rating color</th>\n",
       "      <th>Rating text</th>\n",
       "      <th>Votes</th>\n",
       "    </tr>\n",
       "  </thead>\n",
       "  <tbody>\n",
       "    <tr>\n",
       "      <th>0</th>\n",
       "      <td>6317637</td>\n",
       "      <td>Le Petit Souffle</td>\n",
       "      <td>162</td>\n",
       "      <td>Makati City</td>\n",
       "      <td>Third Floor, Century City Mall, Kalayaan Avenu...</td>\n",
       "      <td>Century City Mall, Poblacion, Makati City</td>\n",
       "      <td>Century City Mall, Poblacion, Makati City, Mak...</td>\n",
       "      <td>121.027535</td>\n",
       "      <td>14.565443</td>\n",
       "      <td>French, Japanese, Desserts</td>\n",
       "      <td>...</td>\n",
       "      <td>Botswana Pula(P)</td>\n",
       "      <td>Yes</td>\n",
       "      <td>No</td>\n",
       "      <td>No</td>\n",
       "      <td>No</td>\n",
       "      <td>3</td>\n",
       "      <td>4.8</td>\n",
       "      <td>Dark Green</td>\n",
       "      <td>Excellent</td>\n",
       "      <td>314</td>\n",
       "    </tr>\n",
       "    <tr>\n",
       "      <th>1</th>\n",
       "      <td>6304287</td>\n",
       "      <td>Izakaya Kikufuji</td>\n",
       "      <td>162</td>\n",
       "      <td>Makati City</td>\n",
       "      <td>Little Tokyo, 2277 Chino Roces Avenue, Legaspi...</td>\n",
       "      <td>Little Tokyo, Legaspi Village, Makati City</td>\n",
       "      <td>Little Tokyo, Legaspi Village, Makati City, Ma...</td>\n",
       "      <td>121.014101</td>\n",
       "      <td>14.553708</td>\n",
       "      <td>Japanese</td>\n",
       "      <td>...</td>\n",
       "      <td>Botswana Pula(P)</td>\n",
       "      <td>Yes</td>\n",
       "      <td>No</td>\n",
       "      <td>No</td>\n",
       "      <td>No</td>\n",
       "      <td>3</td>\n",
       "      <td>4.5</td>\n",
       "      <td>Dark Green</td>\n",
       "      <td>Excellent</td>\n",
       "      <td>591</td>\n",
       "    </tr>\n",
       "    <tr>\n",
       "      <th>2</th>\n",
       "      <td>6300002</td>\n",
       "      <td>Heat - Edsa Shangri-La</td>\n",
       "      <td>162</td>\n",
       "      <td>Mandaluyong City</td>\n",
       "      <td>Edsa Shangri-La, 1 Garden Way, Ortigas, Mandal...</td>\n",
       "      <td>Edsa Shangri-La, Ortigas, Mandaluyong City</td>\n",
       "      <td>Edsa Shangri-La, Ortigas, Mandaluyong City, Ma...</td>\n",
       "      <td>121.056831</td>\n",
       "      <td>14.581404</td>\n",
       "      <td>Seafood, Asian, Filipino, Indian</td>\n",
       "      <td>...</td>\n",
       "      <td>Botswana Pula(P)</td>\n",
       "      <td>Yes</td>\n",
       "      <td>No</td>\n",
       "      <td>No</td>\n",
       "      <td>No</td>\n",
       "      <td>4</td>\n",
       "      <td>4.4</td>\n",
       "      <td>Green</td>\n",
       "      <td>Very Good</td>\n",
       "      <td>270</td>\n",
       "    </tr>\n",
       "    <tr>\n",
       "      <th>3</th>\n",
       "      <td>6318506</td>\n",
       "      <td>Ooma</td>\n",
       "      <td>162</td>\n",
       "      <td>Mandaluyong City</td>\n",
       "      <td>Third Floor, Mega Fashion Hall, SM Megamall, O...</td>\n",
       "      <td>SM Megamall, Ortigas, Mandaluyong City</td>\n",
       "      <td>SM Megamall, Ortigas, Mandaluyong City, Mandal...</td>\n",
       "      <td>121.056475</td>\n",
       "      <td>14.585318</td>\n",
       "      <td>Japanese, Sushi</td>\n",
       "      <td>...</td>\n",
       "      <td>Botswana Pula(P)</td>\n",
       "      <td>No</td>\n",
       "      <td>No</td>\n",
       "      <td>No</td>\n",
       "      <td>No</td>\n",
       "      <td>4</td>\n",
       "      <td>4.9</td>\n",
       "      <td>Dark Green</td>\n",
       "      <td>Excellent</td>\n",
       "      <td>365</td>\n",
       "    </tr>\n",
       "    <tr>\n",
       "      <th>4</th>\n",
       "      <td>6314302</td>\n",
       "      <td>Sambo Kojin</td>\n",
       "      <td>162</td>\n",
       "      <td>Mandaluyong City</td>\n",
       "      <td>Third Floor, Mega Atrium, SM Megamall, Ortigas...</td>\n",
       "      <td>SM Megamall, Ortigas, Mandaluyong City</td>\n",
       "      <td>SM Megamall, Ortigas, Mandaluyong City, Mandal...</td>\n",
       "      <td>121.057508</td>\n",
       "      <td>14.584450</td>\n",
       "      <td>Japanese, Korean</td>\n",
       "      <td>...</td>\n",
       "      <td>Botswana Pula(P)</td>\n",
       "      <td>Yes</td>\n",
       "      <td>No</td>\n",
       "      <td>No</td>\n",
       "      <td>No</td>\n",
       "      <td>4</td>\n",
       "      <td>4.8</td>\n",
       "      <td>Dark Green</td>\n",
       "      <td>Excellent</td>\n",
       "      <td>229</td>\n",
       "    </tr>\n",
       "  </tbody>\n",
       "</table>\n",
       "<p>5 rows × 21 columns</p>\n",
       "</div>"
      ],
      "text/plain": [
       "   Restaurant ID         Restaurant Name  Country Code              City  \\\n",
       "0        6317637        Le Petit Souffle           162       Makati City   \n",
       "1        6304287        Izakaya Kikufuji           162       Makati City   \n",
       "2        6300002  Heat - Edsa Shangri-La           162  Mandaluyong City   \n",
       "3        6318506                    Ooma           162  Mandaluyong City   \n",
       "4        6314302             Sambo Kojin           162  Mandaluyong City   \n",
       "\n",
       "                                             Address  \\\n",
       "0  Third Floor, Century City Mall, Kalayaan Avenu...   \n",
       "1  Little Tokyo, 2277 Chino Roces Avenue, Legaspi...   \n",
       "2  Edsa Shangri-La, 1 Garden Way, Ortigas, Mandal...   \n",
       "3  Third Floor, Mega Fashion Hall, SM Megamall, O...   \n",
       "4  Third Floor, Mega Atrium, SM Megamall, Ortigas...   \n",
       "\n",
       "                                     Locality  \\\n",
       "0   Century City Mall, Poblacion, Makati City   \n",
       "1  Little Tokyo, Legaspi Village, Makati City   \n",
       "2  Edsa Shangri-La, Ortigas, Mandaluyong City   \n",
       "3      SM Megamall, Ortigas, Mandaluyong City   \n",
       "4      SM Megamall, Ortigas, Mandaluyong City   \n",
       "\n",
       "                                    Locality Verbose   Longitude   Latitude  \\\n",
       "0  Century City Mall, Poblacion, Makati City, Mak...  121.027535  14.565443   \n",
       "1  Little Tokyo, Legaspi Village, Makati City, Ma...  121.014101  14.553708   \n",
       "2  Edsa Shangri-La, Ortigas, Mandaluyong City, Ma...  121.056831  14.581404   \n",
       "3  SM Megamall, Ortigas, Mandaluyong City, Mandal...  121.056475  14.585318   \n",
       "4  SM Megamall, Ortigas, Mandaluyong City, Mandal...  121.057508  14.584450   \n",
       "\n",
       "                           Cuisines  ...          Currency Has Table booking  \\\n",
       "0        French, Japanese, Desserts  ...  Botswana Pula(P)               Yes   \n",
       "1                          Japanese  ...  Botswana Pula(P)               Yes   \n",
       "2  Seafood, Asian, Filipino, Indian  ...  Botswana Pula(P)               Yes   \n",
       "3                   Japanese, Sushi  ...  Botswana Pula(P)                No   \n",
       "4                  Japanese, Korean  ...  Botswana Pula(P)               Yes   \n",
       "\n",
       "  Has Online delivery Is delivering now Switch to order menu Price range  \\\n",
       "0                  No                No                   No           3   \n",
       "1                  No                No                   No           3   \n",
       "2                  No                No                   No           4   \n",
       "3                  No                No                   No           4   \n",
       "4                  No                No                   No           4   \n",
       "\n",
       "   Aggregate rating  Rating color Rating text Votes  \n",
       "0               4.8    Dark Green   Excellent   314  \n",
       "1               4.5    Dark Green   Excellent   591  \n",
       "2               4.4         Green   Very Good   270  \n",
       "3               4.9    Dark Green   Excellent   365  \n",
       "4               4.8    Dark Green   Excellent   229  \n",
       "\n",
       "[5 rows x 21 columns]"
      ]
     },
     "execution_count": 7,
     "metadata": {},
     "output_type": "execute_result"
    }
   ],
   "source": [
    "#files represent\n",
    "\n",
    "df_zomato.head()"
   ]
  },
  {
   "cell_type": "code",
   "execution_count": 8,
   "id": "34ca7825-3fa8-4f37-97e0-739e7eb63e47",
   "metadata": {},
   "outputs": [
    {
     "data": {
      "text/plain": [
       "Index(['Restaurant ID', 'Restaurant Name', 'Country Code', 'City', 'Address',\n",
       "       'Locality', 'Locality Verbose', 'Longitude', 'Latitude', 'Cuisines',\n",
       "       'Average Cost for two', 'Currency', 'Has Table booking',\n",
       "       'Has Online delivery', 'Is delivering now', 'Switch to order menu',\n",
       "       'Price range', 'Aggregate rating', 'Rating color', 'Rating text',\n",
       "       'Votes'],\n",
       "      dtype='object')"
      ]
     },
     "execution_count": 8,
     "metadata": {},
     "output_type": "execute_result"
    }
   ],
   "source": [
    "df_zomato.columns"
   ]
  },
  {
   "cell_type": "code",
   "execution_count": 9,
   "id": "db878d49-4c8f-4580-adbe-be5ea2aba376",
   "metadata": {},
   "outputs": [
    {
     "data": {
      "text/plain": [
       "(9551, 21)"
      ]
     },
     "execution_count": 9,
     "metadata": {},
     "output_type": "execute_result"
    }
   ],
   "source": [
    "#shape\n",
    "df_zomato.shape"
   ]
  },
  {
   "cell_type": "code",
   "execution_count": 10,
   "id": "e6ed1db1-6b82-454d-b87e-f2b07962169a",
   "metadata": {},
   "outputs": [
    {
     "name": "stdout",
     "output_type": "stream",
     "text": [
      "<class 'pandas.core.frame.DataFrame'>\n",
      "RangeIndex: 9551 entries, 0 to 9550\n",
      "Data columns (total 21 columns):\n",
      " #   Column                Non-Null Count  Dtype  \n",
      "---  ------                --------------  -----  \n",
      " 0   Restaurant ID         9551 non-null   int64  \n",
      " 1   Restaurant Name       9551 non-null   object \n",
      " 2   Country Code          9551 non-null   int64  \n",
      " 3   City                  9551 non-null   object \n",
      " 4   Address               9551 non-null   object \n",
      " 5   Locality              9551 non-null   object \n",
      " 6   Locality Verbose      9551 non-null   object \n",
      " 7   Longitude             9551 non-null   float64\n",
      " 8   Latitude              9551 non-null   float64\n",
      " 9   Cuisines              9542 non-null   object \n",
      " 10  Average Cost for two  9551 non-null   int64  \n",
      " 11  Currency              9551 non-null   object \n",
      " 12  Has Table booking     9551 non-null   object \n",
      " 13  Has Online delivery   9551 non-null   object \n",
      " 14  Is delivering now     9551 non-null   object \n",
      " 15  Switch to order menu  9551 non-null   object \n",
      " 16  Price range           9551 non-null   int64  \n",
      " 17  Aggregate rating      9551 non-null   float64\n",
      " 18  Rating color          9551 non-null   object \n",
      " 19  Rating text           9551 non-null   object \n",
      " 20  Votes                 9551 non-null   int64  \n",
      "dtypes: float64(3), int64(5), object(13)\n",
      "memory usage: 1.5+ MB\n"
     ]
    }
   ],
   "source": [
    "#info\n",
    "df_zomato.info()"
   ]
  },
  {
   "cell_type": "code",
   "execution_count": 12,
   "id": "600c6d5b-bcc6-4e41-adb4-0a82ce8ba0f9",
   "metadata": {},
   "outputs": [
    {
     "data": {
      "text/plain": [
       "Index                      132\n",
       "Restaurant ID            76408\n",
       "Restaurant Name         614551\n",
       "Country Code             76408\n",
       "City                    546786\n",
       "Address                 980801\n",
       "Locality                602479\n",
       "Locality Verbose        699968\n",
       "Longitude                76408\n",
       "Latitude                 76408\n",
       "Cuisines                658002\n",
       "Average Cost for two     76408\n",
       "Currency                635331\n",
       "Has Table booking       488259\n",
       "Has Online delivery     489552\n",
       "Is delivering now       487135\n",
       "Switch to order menu    487101\n",
       "Price range              76408\n",
       "Aggregate rating         76408\n",
       "Rating color            522724\n",
       "Rating text             535054\n",
       "Votes                    76408\n",
       "dtype: int64"
      ]
     },
     "execution_count": 12,
     "metadata": {},
     "output_type": "execute_result"
    }
   ],
   "source": [
    "df_zomato.memory_usage(deep=True)"
   ]
  },
  {
   "cell_type": "code",
   "execution_count": 18,
   "id": "544b7c3b-2600-49e8-821f-5934e790ac41",
   "metadata": {},
   "outputs": [],
   "source": [
    "#drop those columns\n",
    "df_zomato.drop(columns=['Longitude','Latitude','Restaurant ID','Address','Locality Verbose'],\n",
    "                 axis=1,\n",
    "                 inplace=True)"
   ]
  },
  {
   "cell_type": "code",
   "execution_count": 21,
   "id": "4867f285-cfd1-4f77-bfee-f1d3498da11f",
   "metadata": {},
   "outputs": [
    {
     "data": {
      "text/plain": [
       "(9551, 16)"
      ]
     },
     "execution_count": 21,
     "metadata": {},
     "output_type": "execute_result"
    }
   ],
   "source": [
    "df_zomato.shape"
   ]
  },
  {
   "cell_type": "code",
   "execution_count": 23,
   "id": "d935eb77-93d3-4baa-a06f-9110da2cc8df",
   "metadata": {},
   "outputs": [
    {
     "data": {
      "text/html": [
       "<div>\n",
       "<style scoped>\n",
       "    .dataframe tbody tr th:only-of-type {\n",
       "        vertical-align: middle;\n",
       "    }\n",
       "\n",
       "    .dataframe tbody tr th {\n",
       "        vertical-align: top;\n",
       "    }\n",
       "\n",
       "    .dataframe thead th {\n",
       "        text-align: right;\n",
       "    }\n",
       "</style>\n",
       "<table border=\"1\" class=\"dataframe\">\n",
       "  <thead>\n",
       "    <tr style=\"text-align: right;\">\n",
       "      <th></th>\n",
       "      <th>Country Code</th>\n",
       "      <th>Average Cost for two</th>\n",
       "      <th>Price range</th>\n",
       "      <th>Aggregate rating</th>\n",
       "      <th>Votes</th>\n",
       "    </tr>\n",
       "  </thead>\n",
       "  <tbody>\n",
       "    <tr>\n",
       "      <th>count</th>\n",
       "      <td>9551.000000</td>\n",
       "      <td>9551.000000</td>\n",
       "      <td>9551.000000</td>\n",
       "      <td>9551.000000</td>\n",
       "      <td>9551.000000</td>\n",
       "    </tr>\n",
       "    <tr>\n",
       "      <th>mean</th>\n",
       "      <td>18.365616</td>\n",
       "      <td>1199.210763</td>\n",
       "      <td>1.804837</td>\n",
       "      <td>2.666370</td>\n",
       "      <td>156.909748</td>\n",
       "    </tr>\n",
       "    <tr>\n",
       "      <th>std</th>\n",
       "      <td>56.750546</td>\n",
       "      <td>16121.183073</td>\n",
       "      <td>0.905609</td>\n",
       "      <td>1.516378</td>\n",
       "      <td>430.169145</td>\n",
       "    </tr>\n",
       "    <tr>\n",
       "      <th>min</th>\n",
       "      <td>1.000000</td>\n",
       "      <td>0.000000</td>\n",
       "      <td>1.000000</td>\n",
       "      <td>0.000000</td>\n",
       "      <td>0.000000</td>\n",
       "    </tr>\n",
       "    <tr>\n",
       "      <th>25%</th>\n",
       "      <td>1.000000</td>\n",
       "      <td>250.000000</td>\n",
       "      <td>1.000000</td>\n",
       "      <td>2.500000</td>\n",
       "      <td>5.000000</td>\n",
       "    </tr>\n",
       "    <tr>\n",
       "      <th>50%</th>\n",
       "      <td>1.000000</td>\n",
       "      <td>400.000000</td>\n",
       "      <td>2.000000</td>\n",
       "      <td>3.200000</td>\n",
       "      <td>31.000000</td>\n",
       "    </tr>\n",
       "    <tr>\n",
       "      <th>75%</th>\n",
       "      <td>1.000000</td>\n",
       "      <td>700.000000</td>\n",
       "      <td>2.000000</td>\n",
       "      <td>3.700000</td>\n",
       "      <td>131.000000</td>\n",
       "    </tr>\n",
       "    <tr>\n",
       "      <th>max</th>\n",
       "      <td>216.000000</td>\n",
       "      <td>800000.000000</td>\n",
       "      <td>4.000000</td>\n",
       "      <td>4.900000</td>\n",
       "      <td>10934.000000</td>\n",
       "    </tr>\n",
       "  </tbody>\n",
       "</table>\n",
       "</div>"
      ],
      "text/plain": [
       "       Country Code  Average Cost for two  Price range  Aggregate rating  \\\n",
       "count   9551.000000           9551.000000  9551.000000       9551.000000   \n",
       "mean      18.365616           1199.210763     1.804837          2.666370   \n",
       "std       56.750546          16121.183073     0.905609          1.516378   \n",
       "min        1.000000              0.000000     1.000000          0.000000   \n",
       "25%        1.000000            250.000000     1.000000          2.500000   \n",
       "50%        1.000000            400.000000     2.000000          3.200000   \n",
       "75%        1.000000            700.000000     2.000000          3.700000   \n",
       "max      216.000000         800000.000000     4.000000          4.900000   \n",
       "\n",
       "              Votes  \n",
       "count   9551.000000  \n",
       "mean     156.909748  \n",
       "std      430.169145  \n",
       "min        0.000000  \n",
       "25%        5.000000  \n",
       "50%       31.000000  \n",
       "75%      131.000000  \n",
       "max    10934.000000  "
      ]
     },
     "execution_count": 23,
     "metadata": {},
     "output_type": "execute_result"
    }
   ],
   "source": [
    "# numericals analysis.describe()\n",
    "\n",
    "df_zomato.describe()"
   ]
  },
  {
   "cell_type": "code",
   "execution_count": 25,
   "id": "960e164e-b0c7-4302-8a95-a8c83c275ca1",
   "metadata": {},
   "outputs": [
    {
     "data": {
      "image/png": "[encoded data removed]",
      "text/plain": [
       "<Figure size 640x480 with 2 Axes>"
      ]
     },
     "metadata": {},
     "output_type": "display_data"
    }
   ],
   "source": [
    "#correlation between the variables\n",
    "\n",
    "# Select only numeric columns\n",
    "df_numeric = df_zomato.select_dtypes(include=['number'])\n",
    "\n",
    "# Compute the correlation matrix and create the heatmap\n",
    "import seaborn as sns\n",
    "import matplotlib.pyplot as plt\n",
    "\n",
    "sns.heatmap(df_numeric.corr(),\n",
    "            annot=True,\n",
    "            linewidths=2)\n",
    "\n",
    "plt.show()"
   ]
  },
  {
   "cell_type": "code",
   "execution_count": 26,
   "id": "630e7d6a-470d-4457-a7db-5ccecd665c53",
   "metadata": {},
   "outputs": [
    {
     "data": {
      "text/plain": [
       "Restaurant Name         0\n",
       "Country Code            0\n",
       "City                    0\n",
       "Locality                0\n",
       "Cuisines                9\n",
       "Average Cost for two    0\n",
       "Currency                0\n",
       "Has Table booking       0\n",
       "Has Online delivery     0\n",
       "Is delivering now       0\n",
       "Switch to order menu    0\n",
       "Price range             0\n",
       "Aggregate rating        0\n",
       "Rating color            0\n",
       "Rating text             0\n",
       "Votes                   0\n",
       "dtype: int64"
      ]
     },
     "execution_count": 26,
     "metadata": {},
     "output_type": "execute_result"
    }
   ],
   "source": [
    "#missing values\n",
    "\n",
    "df_zomato.isnull().sum()"
   ]
  },
  {
   "cell_type": "code",
   "execution_count": 29,
   "id": "4c9687f8-4ff0-44d0-a395-c1a041f841c5",
   "metadata": {},
   "outputs": [
    {
     "data": {
      "text/plain": [
       "Restaurant Name         0.000000\n",
       "Country Code            0.000000\n",
       "City                    0.000000\n",
       "Locality                0.000000\n",
       "Cuisines                0.000942\n",
       "Average Cost for two    0.000000\n",
       "Currency                0.000000\n",
       "Has Table booking       0.000000\n",
       "Has Online delivery     0.000000\n",
       "Is delivering now       0.000000\n",
       "Switch to order menu    0.000000\n",
       "Price range             0.000000\n",
       "Aggregate rating        0.000000\n",
       "Rating color            0.000000\n",
       "Rating text             0.000000\n",
       "Votes                   0.000000\n",
       "dtype: float64"
      ]
     },
     "execution_count": 29,
     "metadata": {},
     "output_type": "execute_result"
    }
   ],
   "source": [
    "#percentage missing values\n",
    "perc_missingdata=df_zomato.isnull().sum()/len(df_zomato)\n",
    "perc_missingdata"
   ]
  },
  {
   "cell_type": "code",
   "execution_count": 31,
   "id": "e89bd9c5-1e35-4201-a771-b7446991eb16",
   "metadata": {},
   "outputs": [],
   "source": [
    "missing_df= pd.DataFrame({'Variables':df_zomato.columns,\n",
    "                         'Percent_Missing':perc_missingdata})     ##creating new data frame\n",
    "\n",
    "missing_df.sort_values('Percent_Missing', inplace=True)     ##accending order"
   ]
  },
  {
   "cell_type": "code",
   "execution_count": 33,
   "id": "9729e7ea-8028-4e2b-848f-4189d77d2247",
   "metadata": {},
   "outputs": [
    {
     "data": {
      "text/html": [
       "<div>\n",
       "<style scoped>\n",
       "    .dataframe tbody tr th:only-of-type {\n",
       "        vertical-align: middle;\n",
       "    }\n",
       "\n",
       "    .dataframe tbody tr th {\n",
       "        vertical-align: top;\n",
       "    }\n",
       "\n",
       "    .dataframe thead th {\n",
       "        text-align: right;\n",
       "    }\n",
       "</style>\n",
       "<table border=\"1\" class=\"dataframe\">\n",
       "  <thead>\n",
       "    <tr style=\"text-align: right;\">\n",
       "      <th></th>\n",
       "      <th>Variables</th>\n",
       "      <th>Percent_Missing</th>\n",
       "    </tr>\n",
       "  </thead>\n",
       "  <tbody>\n",
       "    <tr>\n",
       "      <th>Restaurant Name</th>\n",
       "      <td>Restaurant Name</td>\n",
       "      <td>0.000000</td>\n",
       "    </tr>\n",
       "    <tr>\n",
       "      <th>Country Code</th>\n",
       "      <td>Country Code</td>\n",
       "      <td>0.000000</td>\n",
       "    </tr>\n",
       "    <tr>\n",
       "      <th>City</th>\n",
       "      <td>City</td>\n",
       "      <td>0.000000</td>\n",
       "    </tr>\n",
       "    <tr>\n",
       "      <th>Locality</th>\n",
       "      <td>Locality</td>\n",
       "      <td>0.000000</td>\n",
       "    </tr>\n",
       "    <tr>\n",
       "      <th>Average Cost for two</th>\n",
       "      <td>Average Cost for two</td>\n",
       "      <td>0.000000</td>\n",
       "    </tr>\n",
       "    <tr>\n",
       "      <th>Currency</th>\n",
       "      <td>Currency</td>\n",
       "      <td>0.000000</td>\n",
       "    </tr>\n",
       "    <tr>\n",
       "      <th>Has Table booking</th>\n",
       "      <td>Has Table booking</td>\n",
       "      <td>0.000000</td>\n",
       "    </tr>\n",
       "    <tr>\n",
       "      <th>Has Online delivery</th>\n",
       "      <td>Has Online delivery</td>\n",
       "      <td>0.000000</td>\n",
       "    </tr>\n",
       "    <tr>\n",
       "      <th>Is delivering now</th>\n",
       "      <td>Is delivering now</td>\n",
       "      <td>0.000000</td>\n",
       "    </tr>\n",
       "    <tr>\n",
       "      <th>Switch to order menu</th>\n",
       "      <td>Switch to order menu</td>\n",
       "      <td>0.000000</td>\n",
       "    </tr>\n",
       "    <tr>\n",
       "      <th>Price range</th>\n",
       "      <td>Price range</td>\n",
       "      <td>0.000000</td>\n",
       "    </tr>\n",
       "    <tr>\n",
       "      <th>Aggregate rating</th>\n",
       "      <td>Aggregate rating</td>\n",
       "      <td>0.000000</td>\n",
       "    </tr>\n",
       "    <tr>\n",
       "      <th>Rating color</th>\n",
       "      <td>Rating color</td>\n",
       "      <td>0.000000</td>\n",
       "    </tr>\n",
       "    <tr>\n",
       "      <th>Rating text</th>\n",
       "      <td>Rating text</td>\n",
       "      <td>0.000000</td>\n",
       "    </tr>\n",
       "    <tr>\n",
       "      <th>Votes</th>\n",
       "      <td>Votes</td>\n",
       "      <td>0.000000</td>\n",
       "    </tr>\n",
       "    <tr>\n",
       "      <th>Cuisines</th>\n",
       "      <td>Cuisines</td>\n",
       "      <td>0.000942</td>\n",
       "    </tr>\n",
       "  </tbody>\n",
       "</table>\n",
       "</div>"
      ],
      "text/plain": [
       "                                 Variables  Percent_Missing\n",
       "Restaurant Name            Restaurant Name         0.000000\n",
       "Country Code                  Country Code         0.000000\n",
       "City                                  City         0.000000\n",
       "Locality                          Locality         0.000000\n",
       "Average Cost for two  Average Cost for two         0.000000\n",
       "Currency                          Currency         0.000000\n",
       "Has Table booking        Has Table booking         0.000000\n",
       "Has Online delivery    Has Online delivery         0.000000\n",
       "Is delivering now        Is delivering now         0.000000\n",
       "Switch to order menu  Switch to order menu         0.000000\n",
       "Price range                    Price range         0.000000\n",
       "Aggregate rating          Aggregate rating         0.000000\n",
       "Rating color                  Rating color         0.000000\n",
       "Rating text                    Rating text         0.000000\n",
       "Votes                                Votes         0.000000\n",
       "Cuisines                          Cuisines         0.000942"
      ]
     },
     "execution_count": 33,
     "metadata": {},
     "output_type": "execute_result"
    }
   ],
   "source": [
    "missing_df"
   ]
  },
  {
   "cell_type": "code",
   "execution_count": 35,
   "id": "01d20965-d5b4-49f0-9c11-ab14d732f2a6",
   "metadata": {},
   "outputs": [
    {
     "data": {
      "text/plain": [
       "9"
      ]
     },
     "execution_count": 35,
     "metadata": {},
     "output_type": "execute_result"
    }
   ],
   "source": [
    "#check missing vlaues  for a particular colmn\n",
    "\n",
    "df_zomato['Cuisines'].isnull().sum()"
   ]
  },
  {
   "cell_type": "code",
   "execution_count": 37,
   "id": "53b187c5-bc82-4035-802b-1d6969bd4496",
   "metadata": {},
   "outputs": [],
   "source": [
    "#RENAMING COLUMNS\n",
    "\n",
    "df_zomato.rename({'Has Table booking':'Accepts_Table_Booking',\n",
    "                  'Rating color':'Rating_Schema',\n",
    "                  'Rating text':'Rating', \n",
    "                  'Average Cost for two':'Avg_Cost',\n",
    "                  'Has online delivery':'Online Delivery',\n",
    "                 'Aggregate rating':'Aggregate_Rating'},\n",
    "                 axis=1,\n",
    "                  inplace=True)"
   ]
  },
  {
   "cell_type": "code",
   "execution_count": 39,
   "id": "15b8ab85-1dd9-4c49-8754-08b669ac1290",
   "metadata": {},
   "outputs": [
    {
     "data": {
      "text/plain": [
       "Index(['Restaurant Name', 'Country Code', 'City', 'Locality', 'Cuisines',\n",
       "       'Avg_Cost', 'Currency', 'Accepts_Table_Booking', 'Has Online delivery',\n",
       "       'Is delivering now', 'Switch to order menu', 'Price range',\n",
       "       'Aggregate_Rating', 'Rating_Schema', 'Rating', 'Votes'],\n",
       "      dtype='object')"
      ]
     },
     "execution_count": 39,
     "metadata": {},
     "output_type": "execute_result"
    }
   ],
   "source": [
    "df_zomato.columns "
   ]
  },
  {
   "cell_type": "code",
   "execution_count": 41,
   "id": "a02dd4e0-520b-4f8a-873e-48fd207d3a88",
   "metadata": {},
   "outputs": [
    {
     "data": {
      "text/html": [
       "<div>\n",
       "<style scoped>\n",
       "    .dataframe tbody tr th:only-of-type {\n",
       "        vertical-align: middle;\n",
       "    }\n",
       "\n",
       "    .dataframe tbody tr th {\n",
       "        vertical-align: top;\n",
       "    }\n",
       "\n",
       "    .dataframe thead th {\n",
       "        text-align: right;\n",
       "    }\n",
       "</style>\n",
       "<table border=\"1\" class=\"dataframe\">\n",
       "  <thead>\n",
       "    <tr style=\"text-align: right;\">\n",
       "      <th></th>\n",
       "      <th>Aggregate_Rating</th>\n",
       "      <th>Rating_Schema</th>\n",
       "      <th>Rating</th>\n",
       "      <th>Votes</th>\n",
       "    </tr>\n",
       "  </thead>\n",
       "  <tbody>\n",
       "    <tr>\n",
       "      <th>0</th>\n",
       "      <td>4.8</td>\n",
       "      <td>Dark Green</td>\n",
       "      <td>Excellent</td>\n",
       "      <td>314</td>\n",
       "    </tr>\n",
       "    <tr>\n",
       "      <th>1</th>\n",
       "      <td>4.5</td>\n",
       "      <td>Dark Green</td>\n",
       "      <td>Excellent</td>\n",
       "      <td>591</td>\n",
       "    </tr>\n",
       "    <tr>\n",
       "      <th>2</th>\n",
       "      <td>4.4</td>\n",
       "      <td>Green</td>\n",
       "      <td>Very Good</td>\n",
       "      <td>270</td>\n",
       "    </tr>\n",
       "    <tr>\n",
       "      <th>3</th>\n",
       "      <td>4.9</td>\n",
       "      <td>Dark Green</td>\n",
       "      <td>Excellent</td>\n",
       "      <td>365</td>\n",
       "    </tr>\n",
       "    <tr>\n",
       "      <th>4</th>\n",
       "      <td>4.8</td>\n",
       "      <td>Dark Green</td>\n",
       "      <td>Excellent</td>\n",
       "      <td>229</td>\n",
       "    </tr>\n",
       "    <tr>\n",
       "      <th>...</th>\n",
       "      <td>...</td>\n",
       "      <td>...</td>\n",
       "      <td>...</td>\n",
       "      <td>...</td>\n",
       "    </tr>\n",
       "    <tr>\n",
       "      <th>9546</th>\n",
       "      <td>4.1</td>\n",
       "      <td>Green</td>\n",
       "      <td>Very Good</td>\n",
       "      <td>788</td>\n",
       "    </tr>\n",
       "    <tr>\n",
       "      <th>9547</th>\n",
       "      <td>4.2</td>\n",
       "      <td>Green</td>\n",
       "      <td>Very Good</td>\n",
       "      <td>1034</td>\n",
       "    </tr>\n",
       "    <tr>\n",
       "      <th>9548</th>\n",
       "      <td>3.7</td>\n",
       "      <td>Yellow</td>\n",
       "      <td>Good</td>\n",
       "      <td>661</td>\n",
       "    </tr>\n",
       "    <tr>\n",
       "      <th>9549</th>\n",
       "      <td>4.0</td>\n",
       "      <td>Green</td>\n",
       "      <td>Very Good</td>\n",
       "      <td>901</td>\n",
       "    </tr>\n",
       "    <tr>\n",
       "      <th>9550</th>\n",
       "      <td>4.0</td>\n",
       "      <td>Green</td>\n",
       "      <td>Very Good</td>\n",
       "      <td>591</td>\n",
       "    </tr>\n",
       "  </tbody>\n",
       "</table>\n",
       "<p>9551 rows × 4 columns</p>\n",
       "</div>"
      ],
      "text/plain": [
       "      Aggregate_Rating Rating_Schema     Rating  Votes\n",
       "0                  4.8    Dark Green  Excellent    314\n",
       "1                  4.5    Dark Green  Excellent    591\n",
       "2                  4.4         Green  Very Good    270\n",
       "3                  4.9    Dark Green  Excellent    365\n",
       "4                  4.8    Dark Green  Excellent    229\n",
       "...                ...           ...        ...    ...\n",
       "9546               4.1         Green  Very Good    788\n",
       "9547               4.2         Green  Very Good   1034\n",
       "9548               3.7        Yellow       Good    661\n",
       "9549               4.0         Green  Very Good    901\n",
       "9550               4.0         Green  Very Good    591\n",
       "\n",
       "[9551 rows x 4 columns]"
      ]
     },
     "execution_count": 41,
     "metadata": {},
     "output_type": "execute_result"
    }
   ],
   "source": [
    "# take s subset\n",
    "subset_df=df_zomato[['Aggregate_Rating','Rating_Schema','Rating','Votes']]\n",
    "subset_df"
   ]
  },
  {
   "cell_type": "code",
   "execution_count": 43,
   "id": "7b032c42-132c-4ba7-a87a-eeb71b7629b9",
   "metadata": {},
   "outputs": [
    {
     "data": {
      "text/plain": [
       "Rating_Schema\n",
       "Orange        3737\n",
       "White         2148\n",
       "Yellow        2100\n",
       "Green         1079\n",
       "Dark Green     301\n",
       "Red            186\n",
       "Name: count, dtype: int64"
      ]
     },
     "execution_count": 43,
     "metadata": {},
     "output_type": "execute_result"
    }
   ],
   "source": [
    "subset_df['Rating_Schema'].value_counts()"
   ]
  },
  {
   "cell_type": "code",
   "execution_count": 45,
   "id": "219ac792-45e3-427e-ae82-f3737c40fd9f",
   "metadata": {},
   "outputs": [
    {
     "data": {
      "text/plain": [
       "Rating\n",
       "Average      3737\n",
       "Not rated    2148\n",
       "Good         2100\n",
       "Very Good    1079\n",
       "Excellent     301\n",
       "Poor          186\n",
       "Name: count, dtype: int64"
      ]
     },
     "execution_count": 45,
     "metadata": {},
     "output_type": "execute_result"
    }
   ],
   "source": [
    "subset_df['Rating'].value_counts()"
   ]
  },
  {
   "cell_type": "code",
   "execution_count": 47,
   "id": "2b690714-08b9-4847-8425-1485443a5274",
   "metadata": {},
   "outputs": [
    {
     "data": {
      "text/plain": [
       "0.03151502460475343"
      ]
     },
     "execution_count": 47,
     "metadata": {},
     "output_type": "execute_result"
    }
   ],
   "source": [
    "301/9551"
   ]
  },
  {
   "cell_type": "code",
   "execution_count": 49,
   "id": "89288b0c-2562-4615-8d62-5b90c19476ab",
   "metadata": {},
   "outputs": [
    {
     "data": {
      "text/plain": [
       "Accepts_Table_Booking\n",
       "No     8393\n",
       "Yes    1158\n",
       "Name: count, dtype: int64"
      ]
     },
     "execution_count": 49,
     "metadata": {},
     "output_type": "execute_result"
    }
   ],
   "source": [
    "# accepting table booking\n",
    "df_zomato['Accepts_Table_Booking'].value_counts()"
   ]
  },
  {
   "cell_type": "code",
   "execution_count": 51,
   "id": "c21fdf22-4fc3-41ec-bafe-55a4fd03e31a",
   "metadata": {},
   "outputs": [],
   "source": [
    "result_rating = subset_df.groupby('Rating_Schema').agg({\n",
    "    'Aggregate_Rating': ['min', 'max'],\n",
    "    'Rating': ['min', 'max']})"
   ]
  },
  {
   "cell_type": "code",
   "execution_count": 53,
   "id": "48d837f0-5c66-48a7-b158-527fb1b88fa1",
   "metadata": {},
   "outputs": [
    {
     "data": {
      "text/html": [
       "<div>\n",
       "<style scoped>\n",
       "    .dataframe tbody tr th:only-of-type {\n",
       "        vertical-align: middle;\n",
       "    }\n",
       "\n",
       "    .dataframe tbody tr th {\n",
       "        vertical-align: top;\n",
       "    }\n",
       "\n",
       "    .dataframe thead tr th {\n",
       "        text-align: left;\n",
       "    }\n",
       "\n",
       "    .dataframe thead tr:last-of-type th {\n",
       "        text-align: right;\n",
       "    }\n",
       "</style>\n",
       "<table border=\"1\" class=\"dataframe\">\n",
       "  <thead>\n",
       "    <tr>\n",
       "      <th></th>\n",
       "      <th colspan=\"2\" halign=\"left\">Aggregate_Rating</th>\n",
       "      <th colspan=\"2\" halign=\"left\">Rating</th>\n",
       "    </tr>\n",
       "    <tr>\n",
       "      <th></th>\n",
       "      <th>min</th>\n",
       "      <th>max</th>\n",
       "      <th>min</th>\n",
       "      <th>max</th>\n",
       "    </tr>\n",
       "    <tr>\n",
       "      <th>Rating_Schema</th>\n",
       "      <th></th>\n",
       "      <th></th>\n",
       "      <th></th>\n",
       "      <th></th>\n",
       "    </tr>\n",
       "  </thead>\n",
       "  <tbody>\n",
       "    <tr>\n",
       "      <th>Dark Green</th>\n",
       "      <td>4.5</td>\n",
       "      <td>4.9</td>\n",
       "      <td>Excellent</td>\n",
       "      <td>Excellent</td>\n",
       "    </tr>\n",
       "    <tr>\n",
       "      <th>Green</th>\n",
       "      <td>4.0</td>\n",
       "      <td>4.4</td>\n",
       "      <td>Very Good</td>\n",
       "      <td>Very Good</td>\n",
       "    </tr>\n",
       "    <tr>\n",
       "      <th>Orange</th>\n",
       "      <td>2.5</td>\n",
       "      <td>3.4</td>\n",
       "      <td>Average</td>\n",
       "      <td>Average</td>\n",
       "    </tr>\n",
       "    <tr>\n",
       "      <th>Red</th>\n",
       "      <td>1.8</td>\n",
       "      <td>2.4</td>\n",
       "      <td>Poor</td>\n",
       "      <td>Poor</td>\n",
       "    </tr>\n",
       "    <tr>\n",
       "      <th>White</th>\n",
       "      <td>0.0</td>\n",
       "      <td>0.0</td>\n",
       "      <td>Not rated</td>\n",
       "      <td>Not rated</td>\n",
       "    </tr>\n",
       "    <tr>\n",
       "      <th>Yellow</th>\n",
       "      <td>3.5</td>\n",
       "      <td>3.9</td>\n",
       "      <td>Good</td>\n",
       "      <td>Good</td>\n",
       "    </tr>\n",
       "  </tbody>\n",
       "</table>\n",
       "</div>"
      ],
      "text/plain": [
       "              Aggregate_Rating          Rating           \n",
       "                           min  max        min        max\n",
       "Rating_Schema                                            \n",
       "Dark Green                 4.5  4.9  Excellent  Excellent\n",
       "Green                      4.0  4.4  Very Good  Very Good\n",
       "Orange                     2.5  3.4    Average    Average\n",
       "Red                        1.8  2.4       Poor       Poor\n",
       "White                      0.0  0.0  Not rated  Not rated\n",
       "Yellow                     3.5  3.9       Good       Good"
      ]
     },
     "execution_count": 53,
     "metadata": {},
     "output_type": "execute_result"
    }
   ],
   "source": [
    "result_rating"
   ]
  },
  {
   "cell_type": "code",
   "execution_count": 55,
   "id": "76c0458a-0f00-498d-acb5-ba4b6141dc61",
   "metadata": {},
   "outputs": [
    {
     "data": {
      "text/plain": [
       "<Axes: xlabel='Aggregate_Rating'>"
      ]
     },
     "execution_count": 55,
     "metadata": {},
     "output_type": "execute_result"
    },
    {
     "data": {
      "image/png": "[encoded data removed]",
      "text/plain": [
       "<Figure size 640x480 with 1 Axes>"
      ]
     },
     "metadata": {},
     "output_type": "display_data"
    }
   ],
   "source": [
    "#can we plot a boxplot?\n",
    "\n",
    "sns.boxplot(data=df_zomato,\n",
    "            x='Aggregate_Rating',\n",
    "            color='Red',\n",
    "            width=0.5)"
   ]
  },
  {
   "cell_type": "code",
   "execution_count": 57,
   "id": "26d465cc-cfeb-41e2-afdf-219b0249ae76",
   "metadata": {},
   "outputs": [],
   "source": [
    "#75% of the aggregate ratings lie between 2.5 to 3.5\n"
   ]
  },
  {
   "cell_type": "code",
   "execution_count": 59,
   "id": "99670424-74d7-4916-872d-51914459e381",
   "metadata": {},
   "outputs": [],
   "source": [
    "#joining operation\n",
    "join_df=pd.merge(left=df_zomato,\n",
    "                 right=df_countryCode,\n",
    "                 left_on='Country Code',\n",
    "                 right_on='Country Code',\n",
    "                how='inner')"
   ]
  },
  {
   "cell_type": "code",
   "execution_count": 61,
   "id": "2e29487c-96d6-4148-ab4a-1e836026a018",
   "metadata": {},
   "outputs": [
    {
     "data": {
      "text/html": [
       "<div>\n",
       "<style scoped>\n",
       "    .dataframe tbody tr th:only-of-type {\n",
       "        vertical-align: middle;\n",
       "    }\n",
       "\n",
       "    .dataframe tbody tr th {\n",
       "        vertical-align: top;\n",
       "    }\n",
       "\n",
       "    .dataframe thead th {\n",
       "        text-align: right;\n",
       "    }\n",
       "</style>\n",
       "<table border=\"1\" class=\"dataframe\">\n",
       "  <thead>\n",
       "    <tr style=\"text-align: right;\">\n",
       "      <th></th>\n",
       "      <th>Restaurant Name</th>\n",
       "      <th>Country Code</th>\n",
       "      <th>City</th>\n",
       "      <th>Locality</th>\n",
       "      <th>Cuisines</th>\n",
       "      <th>Avg_Cost</th>\n",
       "      <th>Currency</th>\n",
       "      <th>Accepts_Table_Booking</th>\n",
       "      <th>Has Online delivery</th>\n",
       "      <th>Is delivering now</th>\n",
       "      <th>Switch to order menu</th>\n",
       "      <th>Price range</th>\n",
       "      <th>Aggregate_Rating</th>\n",
       "      <th>Rating_Schema</th>\n",
       "      <th>Rating</th>\n",
       "      <th>Votes</th>\n",
       "      <th>Country</th>\n",
       "    </tr>\n",
       "  </thead>\n",
       "  <tbody>\n",
       "    <tr>\n",
       "      <th>0</th>\n",
       "      <td>Le Petit Souffle</td>\n",
       "      <td>162</td>\n",
       "      <td>Makati City</td>\n",
       "      <td>Century City Mall, Poblacion, Makati City</td>\n",
       "      <td>French, Japanese, Desserts</td>\n",
       "      <td>1100</td>\n",
       "      <td>Botswana Pula(P)</td>\n",
       "      <td>Yes</td>\n",
       "      <td>No</td>\n",
       "      <td>No</td>\n",
       "      <td>No</td>\n",
       "      <td>3</td>\n",
       "      <td>4.8</td>\n",
       "      <td>Dark Green</td>\n",
       "      <td>Excellent</td>\n",
       "      <td>314</td>\n",
       "      <td>Phillipines</td>\n",
       "    </tr>\n",
       "    <tr>\n",
       "      <th>1</th>\n",
       "      <td>Izakaya Kikufuji</td>\n",
       "      <td>162</td>\n",
       "      <td>Makati City</td>\n",
       "      <td>Little Tokyo, Legaspi Village, Makati City</td>\n",
       "      <td>Japanese</td>\n",
       "      <td>1200</td>\n",
       "      <td>Botswana Pula(P)</td>\n",
       "      <td>Yes</td>\n",
       "      <td>No</td>\n",
       "      <td>No</td>\n",
       "      <td>No</td>\n",
       "      <td>3</td>\n",
       "      <td>4.5</td>\n",
       "      <td>Dark Green</td>\n",
       "      <td>Excellent</td>\n",
       "      <td>591</td>\n",
       "      <td>Phillipines</td>\n",
       "    </tr>\n",
       "    <tr>\n",
       "      <th>2</th>\n",
       "      <td>Heat - Edsa Shangri-La</td>\n",
       "      <td>162</td>\n",
       "      <td>Mandaluyong City</td>\n",
       "      <td>Edsa Shangri-La, Ortigas, Mandaluyong City</td>\n",
       "      <td>Seafood, Asian, Filipino, Indian</td>\n",
       "      <td>4000</td>\n",
       "      <td>Botswana Pula(P)</td>\n",
       "      <td>Yes</td>\n",
       "      <td>No</td>\n",
       "      <td>No</td>\n",
       "      <td>No</td>\n",
       "      <td>4</td>\n",
       "      <td>4.4</td>\n",
       "      <td>Green</td>\n",
       "      <td>Very Good</td>\n",
       "      <td>270</td>\n",
       "      <td>Phillipines</td>\n",
       "    </tr>\n",
       "    <tr>\n",
       "      <th>3</th>\n",
       "      <td>Ooma</td>\n",
       "      <td>162</td>\n",
       "      <td>Mandaluyong City</td>\n",
       "      <td>SM Megamall, Ortigas, Mandaluyong City</td>\n",
       "      <td>Japanese, Sushi</td>\n",
       "      <td>1500</td>\n",
       "      <td>Botswana Pula(P)</td>\n",
       "      <td>No</td>\n",
       "      <td>No</td>\n",
       "      <td>No</td>\n",
       "      <td>No</td>\n",
       "      <td>4</td>\n",
       "      <td>4.9</td>\n",
       "      <td>Dark Green</td>\n",
       "      <td>Excellent</td>\n",
       "      <td>365</td>\n",
       "      <td>Phillipines</td>\n",
       "    </tr>\n",
       "    <tr>\n",
       "      <th>4</th>\n",
       "      <td>Sambo Kojin</td>\n",
       "      <td>162</td>\n",
       "      <td>Mandaluyong City</td>\n",
       "      <td>SM Megamall, Ortigas, Mandaluyong City</td>\n",
       "      <td>Japanese, Korean</td>\n",
       "      <td>1500</td>\n",
       "      <td>Botswana Pula(P)</td>\n",
       "      <td>Yes</td>\n",
       "      <td>No</td>\n",
       "      <td>No</td>\n",
       "      <td>No</td>\n",
       "      <td>4</td>\n",
       "      <td>4.8</td>\n",
       "      <td>Dark Green</td>\n",
       "      <td>Excellent</td>\n",
       "      <td>229</td>\n",
       "      <td>Phillipines</td>\n",
       "    </tr>\n",
       "  </tbody>\n",
       "</table>\n",
       "</div>"
      ],
      "text/plain": [
       "          Restaurant Name  Country Code              City  \\\n",
       "0        Le Petit Souffle           162       Makati City   \n",
       "1        Izakaya Kikufuji           162       Makati City   \n",
       "2  Heat - Edsa Shangri-La           162  Mandaluyong City   \n",
       "3                    Ooma           162  Mandaluyong City   \n",
       "4             Sambo Kojin           162  Mandaluyong City   \n",
       "\n",
       "                                     Locality  \\\n",
       "0   Century City Mall, Poblacion, Makati City   \n",
       "1  Little Tokyo, Legaspi Village, Makati City   \n",
       "2  Edsa Shangri-La, Ortigas, Mandaluyong City   \n",
       "3      SM Megamall, Ortigas, Mandaluyong City   \n",
       "4      SM Megamall, Ortigas, Mandaluyong City   \n",
       "\n",
       "                           Cuisines  Avg_Cost          Currency  \\\n",
       "0        French, Japanese, Desserts      1100  Botswana Pula(P)   \n",
       "1                          Japanese      1200  Botswana Pula(P)   \n",
       "2  Seafood, Asian, Filipino, Indian      4000  Botswana Pula(P)   \n",
       "3                   Japanese, Sushi      1500  Botswana Pula(P)   \n",
       "4                  Japanese, Korean      1500  Botswana Pula(P)   \n",
       "\n",
       "  Accepts_Table_Booking Has Online delivery Is delivering now  \\\n",
       "0                   Yes                  No                No   \n",
       "1                   Yes                  No                No   \n",
       "2                   Yes                  No                No   \n",
       "3                    No                  No                No   \n",
       "4                   Yes                  No                No   \n",
       "\n",
       "  Switch to order menu  Price range  Aggregate_Rating Rating_Schema  \\\n",
       "0                   No            3               4.8    Dark Green   \n",
       "1                   No            3               4.5    Dark Green   \n",
       "2                   No            4               4.4         Green   \n",
       "3                   No            4               4.9    Dark Green   \n",
       "4                   No            4               4.8    Dark Green   \n",
       "\n",
       "      Rating  Votes      Country  \n",
       "0  Excellent    314  Phillipines  \n",
       "1  Excellent    591  Phillipines  \n",
       "2  Very Good    270  Phillipines  \n",
       "3  Excellent    365  Phillipines  \n",
       "4  Excellent    229  Phillipines  "
      ]
     },
     "execution_count": 61,
     "metadata": {},
     "output_type": "execute_result"
    }
   ],
   "source": [
    "join_df.head()"
   ]
  },
  {
   "cell_type": "code",
   "execution_count": 63,
   "id": "0361f642-a4c3-414a-8172-21852fa0521b",
   "metadata": {},
   "outputs": [
    {
     "data": {
      "text/html": [
       "<div>\n",
       "<style scoped>\n",
       "    .dataframe tbody tr th:only-of-type {\n",
       "        vertical-align: middle;\n",
       "    }\n",
       "\n",
       "    .dataframe tbody tr th {\n",
       "        vertical-align: top;\n",
       "    }\n",
       "\n",
       "    .dataframe thead th {\n",
       "        text-align: right;\n",
       "    }\n",
       "</style>\n",
       "<table border=\"1\" class=\"dataframe\">\n",
       "  <thead>\n",
       "    <tr style=\"text-align: right;\">\n",
       "      <th></th>\n",
       "      <th>Country Code</th>\n",
       "      <th>Country</th>\n",
       "    </tr>\n",
       "  </thead>\n",
       "  <tbody>\n",
       "    <tr>\n",
       "      <th>0</th>\n",
       "      <td>1</td>\n",
       "      <td>India</td>\n",
       "    </tr>\n",
       "    <tr>\n",
       "      <th>1</th>\n",
       "      <td>14</td>\n",
       "      <td>Australia</td>\n",
       "    </tr>\n",
       "    <tr>\n",
       "      <th>2</th>\n",
       "      <td>30</td>\n",
       "      <td>Brazil</td>\n",
       "    </tr>\n",
       "    <tr>\n",
       "      <th>3</th>\n",
       "      <td>37</td>\n",
       "      <td>Canada</td>\n",
       "    </tr>\n",
       "    <tr>\n",
       "      <th>4</th>\n",
       "      <td>94</td>\n",
       "      <td>Indonesia</td>\n",
       "    </tr>\n",
       "  </tbody>\n",
       "</table>\n",
       "</div>"
      ],
      "text/plain": [
       "   Country Code    Country\n",
       "0             1      India\n",
       "1            14  Australia\n",
       "2            30     Brazil\n",
       "3            37     Canada\n",
       "4            94  Indonesia"
      ]
     },
     "execution_count": 63,
     "metadata": {},
     "output_type": "execute_result"
    }
   ],
   "source": [
    "df_countryCode.head()"
   ]
  },
  {
   "cell_type": "code",
   "execution_count": 74,
   "id": "0ca65533-4abc-45a1-ad67-a8737d73efab",
   "metadata": {},
   "outputs": [
    {
     "data": {
      "text/plain": [
       "Country Code  Currency              \n",
       "1             Indian Rupees(Rs.)        8652\n",
       "216           Dollar($)                  434\n",
       "215           Pounds(£)                  80\n",
       "30            Brazilian Real(R$)          60\n",
       "189           Rand(R)                     60\n",
       "214           Emirati Diram(AED)          60\n",
       "148           NewZealand($)               40\n",
       "208           Turkish Lira(TL)            34\n",
       "14            Dollar($)                   24\n",
       "162           Botswana Pula(P)            22\n",
       "94            Indonesian Rupiah(IDR)      21\n",
       "166           Qatari Rial(QR)             20\n",
       "184           Dollar($)                   20\n",
       "191           Sri Lankan Rupee(LKR)       20\n",
       "37            Dollar($)                    4\n",
       "Name: count, dtype: int64"
      ]
     },
     "execution_count": 74,
     "metadata": {},
     "output_type": "execute_result"
    }
   ],
   "source": [
    "#.Loc function on country and currecy\n",
    "# filter multiple rows and columns\n",
    "# use loc to subset of rows and columns\n",
    "#: means all rows in pandas\n",
    "\n",
    "currency_df = join_df.loc[:,['Country Code','Currency']]\n",
    "currency_df.value_counts()"
   ]
  },
  {
   "cell_type": "code",
   "execution_count": 78,
   "id": "a00b97ac-791a-4553-82bd-fe679975ee5d",
   "metadata": {},
   "outputs": [
    {
     "data": {
      "text/plain": [
       "Has Online delivery\n",
       "No     7100\n",
       "Yes    2451\n",
       "Name: count, dtype: int64"
      ]
     },
     "execution_count": 78,
     "metadata": {},
     "output_type": "execute_result"
    }
   ],
   "source": [
    "join_df['Has Online delivery'].value_counts()"
   ]
  },
  {
   "cell_type": "code",
   "execution_count": 82,
   "id": "37b6fac8-8aad-4bbd-9aaa-a927cab6f9ae",
   "metadata": {},
   "outputs": [],
   "source": [
    "# % penetration country wise\n",
    "perc_penetration = join_df.Country.value_counts()*100/len(join_df['Country'])"
   ]
  },
  {
   "cell_type": "code",
   "execution_count": 84,
   "id": "2b068c68-3c8e-426d-a14a-4db00473db29",
   "metadata": {},
   "outputs": [
    {
     "data": {
      "text/plain": [
       "Country\n",
       "India             90.587373\n",
       "United States      4.544027\n",
       "United Kingdom     0.837609\n",
       "Brazil             0.628206\n",
       "UAE                0.628206\n",
       "South Africa       0.628206\n",
       "New Zealand        0.418804\n",
       "Turkey             0.355984\n",
       "Australia          0.251283\n",
       "Phillipines        0.230342\n",
       "Indonesia          0.219872\n",
       "Singapore          0.209402\n",
       "Qatar              0.209402\n",
       "Sri Lanka          0.209402\n",
       "Canada             0.041880\n",
       "Name: count, dtype: float64"
      ]
     },
     "execution_count": 84,
     "metadata": {},
     "output_type": "execute_result"
    }
   ],
   "source": [
    "perc_penetration"
   ]
  },
  {
   "cell_type": "code",
   "execution_count": 86,
   "id": "658c453f-bbd6-48ad-8f22-03404bfdf3c9",
   "metadata": {},
   "outputs": [
    {
     "data": {
      "text/plain": [
       "Index(['India', 'United States', 'United Kingdom', 'Brazil', 'UAE',\n",
       "       'South Africa', 'New Zealand', 'Turkey', 'Australia', 'Phillipines',\n",
       "       'Indonesia', 'Singapore', 'Qatar', 'Sri Lanka', 'Canada'],\n",
       "      dtype='object', name='Country')"
      ]
     },
     "execution_count": 86,
     "metadata": {},
     "output_type": "execute_result"
    }
   ],
   "source": [
    "#just country names\n",
    "country_names=join_df.Country.value_counts().index\n",
    "\n",
    "country_names"
   ]
  },
  {
   "cell_type": "code",
   "execution_count": 88,
   "id": "78ada71f-98fe-4684-bbe7-a2ace855d878",
   "metadata": {},
   "outputs": [
    {
     "data": {
      "text/plain": [
       "array([8652,  434,   80,   60,   60,   60,   40,   34,   24,   22,   21,\n",
       "         20,   20,   20,    4], dtype=int64)"
      ]
     },
     "execution_count": 88,
     "metadata": {},
     "output_type": "execute_result"
    }
   ],
   "source": [
    "#values\n",
    "#just country names\n",
    "country_values = join_df.Country.value_counts().values\n",
    "\n",
    "country_values"
   ]
  },
  {
   "cell_type": "code",
   "execution_count": 90,
   "id": "29ed48c4-4c32-473b-bf4a-a6ceb0fbf553",
   "metadata": {},
   "outputs": [
    {
     "data": {
      "text/plain": [
       "([<matplotlib.patches.Wedge at 0x1a3bc1e6a80>,\n",
       "  <matplotlib.patches.Wedge at 0x1a3c10dbf20>,\n",
       "  <matplotlib.patches.Wedge at 0x1a3c2a19100>],\n",
       " [Text(-1.0829742700952103, 0.19278674827836725, 'India'),\n",
       "  Text(1.077281715838356, -0.22240527134123297, 'United States'),\n",
       "  Text(1.0995865153823035, -0.03015783794312073, 'United Kingdom')],\n",
       " [Text(-0.590713238233751, 0.10515640815183668, '94.392%'),\n",
       "  Text(0.5876082086391032, -0.12131196618612707, '4.735%'),\n",
       "  Text(0.5997744629358018, -0.01644972978715676, '0.873%')])"
      ]
     },
     "execution_count": 90,
     "metadata": {},
     "output_type": "execute_result"
    },
    {
     "data": {
      "image/png": "[encoded data removed]",
      "text/plain": [
       "<Figure size 640x480 with 1 Axes>"
      ]
     },
     "metadata": {},
     "output_type": "display_data"
    }
   ],
   "source": [
    "plt.pie(country_values[:3],labels=country_names[:3],autopct='%1.3f%%')"
   ]
  },
  {
   "cell_type": "code",
   "execution_count": 94,
   "id": "d3076898-55b4-4cea-8a17-4847871b4c7b",
   "metadata": {},
   "outputs": [
    {
     "data": {
      "text/html": [
       "<div>\n",
       "<style scoped>\n",
       "    .dataframe tbody tr th:only-of-type {\n",
       "        vertical-align: middle;\n",
       "    }\n",
       "\n",
       "    .dataframe tbody tr th {\n",
       "        vertical-align: top;\n",
       "    }\n",
       "\n",
       "    .dataframe thead th {\n",
       "        text-align: right;\n",
       "    }\n",
       "</style>\n",
       "<table border=\"1\" class=\"dataframe\">\n",
       "  <thead>\n",
       "    <tr style=\"text-align: right;\">\n",
       "      <th></th>\n",
       "      <th>Country</th>\n",
       "      <th>Has Online delivery</th>\n",
       "      <th>0</th>\n",
       "    </tr>\n",
       "  </thead>\n",
       "  <tbody>\n",
       "    <tr>\n",
       "      <th>0</th>\n",
       "      <td>Australia</td>\n",
       "      <td>No</td>\n",
       "      <td>24</td>\n",
       "    </tr>\n",
       "    <tr>\n",
       "      <th>1</th>\n",
       "      <td>Brazil</td>\n",
       "      <td>No</td>\n",
       "      <td>60</td>\n",
       "    </tr>\n",
       "    <tr>\n",
       "      <th>2</th>\n",
       "      <td>Canada</td>\n",
       "      <td>No</td>\n",
       "      <td>4</td>\n",
       "    </tr>\n",
       "    <tr>\n",
       "      <th>3</th>\n",
       "      <td>India</td>\n",
       "      <td>No</td>\n",
       "      <td>6229</td>\n",
       "    </tr>\n",
       "    <tr>\n",
       "      <th>4</th>\n",
       "      <td>India</td>\n",
       "      <td>Yes</td>\n",
       "      <td>2423</td>\n",
       "    </tr>\n",
       "    <tr>\n",
       "      <th>5</th>\n",
       "      <td>Indonesia</td>\n",
       "      <td>No</td>\n",
       "      <td>21</td>\n",
       "    </tr>\n",
       "    <tr>\n",
       "      <th>6</th>\n",
       "      <td>New Zealand</td>\n",
       "      <td>No</td>\n",
       "      <td>40</td>\n",
       "    </tr>\n",
       "    <tr>\n",
       "      <th>7</th>\n",
       "      <td>Phillipines</td>\n",
       "      <td>No</td>\n",
       "      <td>22</td>\n",
       "    </tr>\n",
       "    <tr>\n",
       "      <th>8</th>\n",
       "      <td>Qatar</td>\n",
       "      <td>No</td>\n",
       "      <td>20</td>\n",
       "    </tr>\n",
       "    <tr>\n",
       "      <th>9</th>\n",
       "      <td>Singapore</td>\n",
       "      <td>No</td>\n",
       "      <td>20</td>\n",
       "    </tr>\n",
       "    <tr>\n",
       "      <th>10</th>\n",
       "      <td>South Africa</td>\n",
       "      <td>No</td>\n",
       "      <td>60</td>\n",
       "    </tr>\n",
       "    <tr>\n",
       "      <th>11</th>\n",
       "      <td>Sri Lanka</td>\n",
       "      <td>No</td>\n",
       "      <td>20</td>\n",
       "    </tr>\n",
       "    <tr>\n",
       "      <th>12</th>\n",
       "      <td>Turkey</td>\n",
       "      <td>No</td>\n",
       "      <td>34</td>\n",
       "    </tr>\n",
       "    <tr>\n",
       "      <th>13</th>\n",
       "      <td>UAE</td>\n",
       "      <td>No</td>\n",
       "      <td>32</td>\n",
       "    </tr>\n",
       "    <tr>\n",
       "      <th>14</th>\n",
       "      <td>UAE</td>\n",
       "      <td>Yes</td>\n",
       "      <td>28</td>\n",
       "    </tr>\n",
       "    <tr>\n",
       "      <th>15</th>\n",
       "      <td>United Kingdom</td>\n",
       "      <td>No</td>\n",
       "      <td>80</td>\n",
       "    </tr>\n",
       "    <tr>\n",
       "      <th>16</th>\n",
       "      <td>United States</td>\n",
       "      <td>No</td>\n",
       "      <td>434</td>\n",
       "    </tr>\n",
       "  </tbody>\n",
       "</table>\n",
       "</div>"
      ],
      "text/plain": [
       "           Country Has Online delivery     0\n",
       "0        Australia                  No    24\n",
       "1           Brazil                  No    60\n",
       "2           Canada                  No     4\n",
       "3            India                  No  6229\n",
       "4            India                 Yes  2423\n",
       "5        Indonesia                  No    21\n",
       "6      New Zealand                  No    40\n",
       "7      Phillipines                  No    22\n",
       "8            Qatar                  No    20\n",
       "9        Singapore                  No    20\n",
       "10    South Africa                  No    60\n",
       "11       Sri Lanka                  No    20\n",
       "12          Turkey                  No    34\n",
       "13             UAE                  No    32\n",
       "14             UAE                 Yes    28\n",
       "15  United Kingdom                  No    80\n",
       "16   United States                  No   434"
      ]
     },
     "execution_count": 94,
     "metadata": {},
     "output_type": "execute_result"
    }
   ],
   "source": [
    "#country and online delivery\n",
    "join_df.groupby(['Country','Has Online delivery']).size().reset_index()"
   ]
  },
  {
   "cell_type": "code",
   "execution_count": 100,
   "id": "abab3d82-2c25-4668-a1c8-c2a17dd31ca1",
   "metadata": {},
   "outputs": [
    {
     "data": {
      "text/plain": [
       "Country\n",
       "India    2423\n",
       "UAE        28\n",
       "Name: count, dtype: int64"
      ]
     },
     "execution_count": 100,
     "metadata": {},
     "output_type": "execute_result"
    }
   ],
   "source": [
    "#which countries have online delivery option in zomato\n",
    "\n",
    "join_df[join_df['Has Online delivery'] == 'Yes'].Country.value_counts()"
   ]
  },
  {
   "cell_type": "code",
   "execution_count": 102,
   "id": "dc600c1b-2520-4044-85ca-dc0927fb0192",
   "metadata": {},
   "outputs": [
    {
     "data": {
      "text/plain": [
       "Country\n",
       "India             6229\n",
       "United States      434\n",
       "United Kingdom      80\n",
       "Brazil              60\n",
       "South Africa        60\n",
       "New Zealand         40\n",
       "Turkey              34\n",
       "UAE                 32\n",
       "Australia           24\n",
       "Phillipines         22\n",
       "Indonesia           21\n",
       "Singapore           20\n",
       "Qatar               20\n",
       "Sri Lanka           20\n",
       "Canada               4\n",
       "Name: count, dtype: int64"
      ]
     },
     "execution_count": 102,
     "metadata": {},
     "output_type": "execute_result"
    }
   ],
   "source": [
    "join_df[join_df['Has Online delivery'] == 'No'].Country.value_counts()"
   ]
  },
  {
   "cell_type": "code",
   "execution_count": 104,
   "id": "94ae7583-aff4-45fe-a8d3-d9a0cd21ad54",
   "metadata": {},
   "outputs": [
    {
     "data": {
      "text/plain": [
       "Country  Currency          \n",
       "India    Indian Rupees(Rs.)    2423\n",
       "UAE      Emirati Diram(AED)      28\n",
       "Name: count, dtype: int64"
      ]
     },
     "execution_count": 104,
     "metadata": {},
     "output_type": "execute_result"
    }
   ],
   "source": [
    "join_df.loc[join_df['Has Online delivery'] == 'Yes' , ['Country', 'Currency']] .value_counts()"
   ]
  },
  {
   "cell_type": "code",
   "execution_count": 110,
   "id": "c38e271c-e1c0-4b72-91b0-edb575a5cdbc",
   "metadata": {},
   "outputs": [],
   "source": [
    "#cities\n",
    "indian_cities=join_df[join_df['Country']=='India']"
   ]
  },
  {
   "cell_type": "code",
   "execution_count": 112,
   "id": "86044abe-995d-4e1b-bceb-64ea3676beb8",
   "metadata": {},
   "outputs": [
    {
     "data": {
      "text/html": [
       "<div>\n",
       "<style scoped>\n",
       "    .dataframe tbody tr th:only-of-type {\n",
       "        vertical-align: middle;\n",
       "    }\n",
       "\n",
       "    .dataframe tbody tr th {\n",
       "        vertical-align: top;\n",
       "    }\n",
       "\n",
       "    .dataframe thead th {\n",
       "        text-align: right;\n",
       "    }\n",
       "</style>\n",
       "<table border=\"1\" class=\"dataframe\">\n",
       "  <thead>\n",
       "    <tr style=\"text-align: right;\">\n",
       "      <th></th>\n",
       "      <th>Restaurant Name</th>\n",
       "      <th>Country Code</th>\n",
       "      <th>City</th>\n",
       "      <th>Locality</th>\n",
       "      <th>Cuisines</th>\n",
       "      <th>Avg_Cost</th>\n",
       "      <th>Currency</th>\n",
       "      <th>Accepts_Table_Booking</th>\n",
       "      <th>Has Online delivery</th>\n",
       "      <th>Is delivering now</th>\n",
       "      <th>Switch to order menu</th>\n",
       "      <th>Price range</th>\n",
       "      <th>Aggregate_Rating</th>\n",
       "      <th>Rating_Schema</th>\n",
       "      <th>Rating</th>\n",
       "      <th>Votes</th>\n",
       "      <th>Country</th>\n",
       "    </tr>\n",
       "  </thead>\n",
       "  <tbody>\n",
       "    <tr>\n",
       "      <th>624</th>\n",
       "      <td>Jahanpanah</td>\n",
       "      <td>1</td>\n",
       "      <td>Agra</td>\n",
       "      <td>Agra Cantt</td>\n",
       "      <td>North Indian, Mughlai</td>\n",
       "      <td>850</td>\n",
       "      <td>Indian Rupees(Rs.)</td>\n",
       "      <td>No</td>\n",
       "      <td>No</td>\n",
       "      <td>No</td>\n",
       "      <td>No</td>\n",
       "      <td>3</td>\n",
       "      <td>3.9</td>\n",
       "      <td>Yellow</td>\n",
       "      <td>Good</td>\n",
       "      <td>140</td>\n",
       "      <td>India</td>\n",
       "    </tr>\n",
       "    <tr>\n",
       "      <th>625</th>\n",
       "      <td>Rangrezz Restaurant</td>\n",
       "      <td>1</td>\n",
       "      <td>Agra</td>\n",
       "      <td>Agra Cantt</td>\n",
       "      <td>North Indian, Mughlai</td>\n",
       "      <td>700</td>\n",
       "      <td>Indian Rupees(Rs.)</td>\n",
       "      <td>No</td>\n",
       "      <td>No</td>\n",
       "      <td>No</td>\n",
       "      <td>No</td>\n",
       "      <td>2</td>\n",
       "      <td>3.5</td>\n",
       "      <td>Yellow</td>\n",
       "      <td>Good</td>\n",
       "      <td>71</td>\n",
       "      <td>India</td>\n",
       "    </tr>\n",
       "    <tr>\n",
       "      <th>626</th>\n",
       "      <td>Time2Eat - Mama Chicken</td>\n",
       "      <td>1</td>\n",
       "      <td>Agra</td>\n",
       "      <td>Agra Cantt</td>\n",
       "      <td>North Indian</td>\n",
       "      <td>500</td>\n",
       "      <td>Indian Rupees(Rs.)</td>\n",
       "      <td>No</td>\n",
       "      <td>No</td>\n",
       "      <td>No</td>\n",
       "      <td>No</td>\n",
       "      <td>2</td>\n",
       "      <td>3.6</td>\n",
       "      <td>Yellow</td>\n",
       "      <td>Good</td>\n",
       "      <td>94</td>\n",
       "      <td>India</td>\n",
       "    </tr>\n",
       "    <tr>\n",
       "      <th>627</th>\n",
       "      <td>Chokho Jeeman Marwari Jain Bhojanalya</td>\n",
       "      <td>1</td>\n",
       "      <td>Agra</td>\n",
       "      <td>Civil Lines</td>\n",
       "      <td>Rajasthani</td>\n",
       "      <td>400</td>\n",
       "      <td>Indian Rupees(Rs.)</td>\n",
       "      <td>No</td>\n",
       "      <td>No</td>\n",
       "      <td>No</td>\n",
       "      <td>No</td>\n",
       "      <td>2</td>\n",
       "      <td>4.0</td>\n",
       "      <td>Green</td>\n",
       "      <td>Very Good</td>\n",
       "      <td>87</td>\n",
       "      <td>India</td>\n",
       "    </tr>\n",
       "    <tr>\n",
       "      <th>628</th>\n",
       "      <td>Pinch Of Spice</td>\n",
       "      <td>1</td>\n",
       "      <td>Agra</td>\n",
       "      <td>Civil Lines</td>\n",
       "      <td>North Indian, Chinese, Mughlai</td>\n",
       "      <td>1000</td>\n",
       "      <td>Indian Rupees(Rs.)</td>\n",
       "      <td>No</td>\n",
       "      <td>No</td>\n",
       "      <td>No</td>\n",
       "      <td>No</td>\n",
       "      <td>3</td>\n",
       "      <td>4.2</td>\n",
       "      <td>Green</td>\n",
       "      <td>Very Good</td>\n",
       "      <td>177</td>\n",
       "      <td>India</td>\n",
       "    </tr>\n",
       "    <tr>\n",
       "      <th>...</th>\n",
       "      <td>...</td>\n",
       "      <td>...</td>\n",
       "      <td>...</td>\n",
       "      <td>...</td>\n",
       "      <td>...</td>\n",
       "      <td>...</td>\n",
       "      <td>...</td>\n",
       "      <td>...</td>\n",
       "      <td>...</td>\n",
       "      <td>...</td>\n",
       "      <td>...</td>\n",
       "      <td>...</td>\n",
       "      <td>...</td>\n",
       "      <td>...</td>\n",
       "      <td>...</td>\n",
       "      <td>...</td>\n",
       "      <td>...</td>\n",
       "    </tr>\n",
       "    <tr>\n",
       "      <th>9271</th>\n",
       "      <td>D Cabana</td>\n",
       "      <td>1</td>\n",
       "      <td>Vizag</td>\n",
       "      <td>Sagar Nagar</td>\n",
       "      <td>Continental, Seafood, Chinese, North Indian, B...</td>\n",
       "      <td>600</td>\n",
       "      <td>Indian Rupees(Rs.)</td>\n",
       "      <td>No</td>\n",
       "      <td>No</td>\n",
       "      <td>No</td>\n",
       "      <td>No</td>\n",
       "      <td>2</td>\n",
       "      <td>3.6</td>\n",
       "      <td>Yellow</td>\n",
       "      <td>Good</td>\n",
       "      <td>193</td>\n",
       "      <td>India</td>\n",
       "    </tr>\n",
       "    <tr>\n",
       "      <th>9272</th>\n",
       "      <td>Kaloreez</td>\n",
       "      <td>1</td>\n",
       "      <td>Vizag</td>\n",
       "      <td>Siripuram</td>\n",
       "      <td>Cafe, North Indian, Chinese</td>\n",
       "      <td>400</td>\n",
       "      <td>Indian Rupees(Rs.)</td>\n",
       "      <td>No</td>\n",
       "      <td>No</td>\n",
       "      <td>No</td>\n",
       "      <td>No</td>\n",
       "      <td>2</td>\n",
       "      <td>3.7</td>\n",
       "      <td>Yellow</td>\n",
       "      <td>Good</td>\n",
       "      <td>85</td>\n",
       "      <td>India</td>\n",
       "    </tr>\n",
       "    <tr>\n",
       "      <th>9273</th>\n",
       "      <td>Plot 17</td>\n",
       "      <td>1</td>\n",
       "      <td>Vizag</td>\n",
       "      <td>Siripuram</td>\n",
       "      <td>Burger, Pizza, Biryani</td>\n",
       "      <td>600</td>\n",
       "      <td>Indian Rupees(Rs.)</td>\n",
       "      <td>No</td>\n",
       "      <td>No</td>\n",
       "      <td>No</td>\n",
       "      <td>No</td>\n",
       "      <td>2</td>\n",
       "      <td>4.3</td>\n",
       "      <td>Green</td>\n",
       "      <td>Very Good</td>\n",
       "      <td>172</td>\n",
       "      <td>India</td>\n",
       "    </tr>\n",
       "    <tr>\n",
       "      <th>9274</th>\n",
       "      <td>Vista - The Park</td>\n",
       "      <td>1</td>\n",
       "      <td>Vizag</td>\n",
       "      <td>The Park, Lawsons Bay</td>\n",
       "      <td>American, North Indian, Thai, Continental</td>\n",
       "      <td>1500</td>\n",
       "      <td>Indian Rupees(Rs.)</td>\n",
       "      <td>No</td>\n",
       "      <td>No</td>\n",
       "      <td>No</td>\n",
       "      <td>No</td>\n",
       "      <td>4</td>\n",
       "      <td>3.8</td>\n",
       "      <td>Yellow</td>\n",
       "      <td>Good</td>\n",
       "      <td>74</td>\n",
       "      <td>India</td>\n",
       "    </tr>\n",
       "    <tr>\n",
       "      <th>9275</th>\n",
       "      <td>Flying Spaghetti Monster</td>\n",
       "      <td>1</td>\n",
       "      <td>Vizag</td>\n",
       "      <td>Waltair Uplands</td>\n",
       "      <td>Italian</td>\n",
       "      <td>1400</td>\n",
       "      <td>Indian Rupees(Rs.)</td>\n",
       "      <td>No</td>\n",
       "      <td>No</td>\n",
       "      <td>No</td>\n",
       "      <td>No</td>\n",
       "      <td>3</td>\n",
       "      <td>4.4</td>\n",
       "      <td>Green</td>\n",
       "      <td>Very Good</td>\n",
       "      <td>316</td>\n",
       "      <td>India</td>\n",
       "    </tr>\n",
       "  </tbody>\n",
       "</table>\n",
       "<p>8652 rows × 17 columns</p>\n",
       "</div>"
      ],
      "text/plain": [
       "                            Restaurant Name  Country Code   City  \\\n",
       "624                              Jahanpanah             1   Agra   \n",
       "625                     Rangrezz Restaurant             1   Agra   \n",
       "626                 Time2Eat - Mama Chicken             1   Agra   \n",
       "627   Chokho Jeeman Marwari Jain Bhojanalya             1   Agra   \n",
       "628                          Pinch Of Spice             1   Agra   \n",
       "...                                     ...           ...    ...   \n",
       "9271                               D Cabana             1  Vizag   \n",
       "9272                               Kaloreez             1  Vizag   \n",
       "9273                                Plot 17             1  Vizag   \n",
       "9274                       Vista - The Park             1  Vizag   \n",
       "9275               Flying Spaghetti Monster             1  Vizag   \n",
       "\n",
       "                   Locality  \\\n",
       "624              Agra Cantt   \n",
       "625              Agra Cantt   \n",
       "626              Agra Cantt   \n",
       "627             Civil Lines   \n",
       "628             Civil Lines   \n",
       "...                     ...   \n",
       "9271            Sagar Nagar   \n",
       "9272              Siripuram   \n",
       "9273              Siripuram   \n",
       "9274  The Park, Lawsons Bay   \n",
       "9275        Waltair Uplands   \n",
       "\n",
       "                                               Cuisines  Avg_Cost  \\\n",
       "624                               North Indian, Mughlai       850   \n",
       "625                               North Indian, Mughlai       700   \n",
       "626                                        North Indian       500   \n",
       "627                                          Rajasthani       400   \n",
       "628                      North Indian, Chinese, Mughlai      1000   \n",
       "...                                                 ...       ...   \n",
       "9271  Continental, Seafood, Chinese, North Indian, B...       600   \n",
       "9272                        Cafe, North Indian, Chinese       400   \n",
       "9273                             Burger, Pizza, Biryani       600   \n",
       "9274          American, North Indian, Thai, Continental      1500   \n",
       "9275                                            Italian      1400   \n",
       "\n",
       "                Currency Accepts_Table_Booking Has Online delivery  \\\n",
       "624   Indian Rupees(Rs.)                    No                  No   \n",
       "625   Indian Rupees(Rs.)                    No                  No   \n",
       "626   Indian Rupees(Rs.)                    No                  No   \n",
       "627   Indian Rupees(Rs.)                    No                  No   \n",
       "628   Indian Rupees(Rs.)                    No                  No   \n",
       "...                  ...                   ...                 ...   \n",
       "9271  Indian Rupees(Rs.)                    No                  No   \n",
       "9272  Indian Rupees(Rs.)                    No                  No   \n",
       "9273  Indian Rupees(Rs.)                    No                  No   \n",
       "9274  Indian Rupees(Rs.)                    No                  No   \n",
       "9275  Indian Rupees(Rs.)                    No                  No   \n",
       "\n",
       "     Is delivering now Switch to order menu  Price range  Aggregate_Rating  \\\n",
       "624                 No                   No            3               3.9   \n",
       "625                 No                   No            2               3.5   \n",
       "626                 No                   No            2               3.6   \n",
       "627                 No                   No            2               4.0   \n",
       "628                 No                   No            3               4.2   \n",
       "...                ...                  ...          ...               ...   \n",
       "9271                No                   No            2               3.6   \n",
       "9272                No                   No            2               3.7   \n",
       "9273                No                   No            2               4.3   \n",
       "9274                No                   No            4               3.8   \n",
       "9275                No                   No            3               4.4   \n",
       "\n",
       "     Rating_Schema     Rating  Votes Country  \n",
       "624         Yellow       Good    140   India  \n",
       "625         Yellow       Good     71   India  \n",
       "626         Yellow       Good     94   India  \n",
       "627          Green  Very Good     87   India  \n",
       "628          Green  Very Good    177   India  \n",
       "...            ...        ...    ...     ...  \n",
       "9271        Yellow       Good    193   India  \n",
       "9272        Yellow       Good     85   India  \n",
       "9273         Green  Very Good    172   India  \n",
       "9274        Yellow       Good     74   India  \n",
       "9275         Green  Very Good    316   India  \n",
       "\n",
       "[8652 rows x 17 columns]"
      ]
     },
     "execution_count": 112,
     "metadata": {},
     "output_type": "execute_result"
    }
   ],
   "source": [
    "indian_cities"
   ]
  },
  {
   "cell_type": "code",
   "execution_count": 118,
   "id": "f9a36fd5-b968-4a63-b0e3-0219cabd2aea",
   "metadata": {},
   "outputs": [
    {
     "data": {
      "text/plain": [
       "(8652, 17)"
      ]
     },
     "execution_count": 118,
     "metadata": {},
     "output_type": "execute_result"
    }
   ],
   "source": [
    "indian_cities.shape"
   ]
  },
  {
   "cell_type": "code",
   "execution_count": 120,
   "id": "f35ffe6f-2829-4d55-9e0e-de42f19c2546",
   "metadata": {},
   "outputs": [],
   "source": [
    "# top 3 cities\n",
    "city_count=indian_cities['City'].value_counts()"
   ]
  },
  {
   "cell_type": "code",
   "execution_count": 122,
   "id": "bd0bf630-5283-41d7-860f-e6ec4bc7bf1b",
   "metadata": {},
   "outputs": [
    {
     "data": {
      "text/plain": [
       "City\n",
       "New Delhi       5473\n",
       "Gurgaon         1118\n",
       "Noida           1080\n",
       "Faridabad        251\n",
       "Ghaziabad         25\n",
       "Ahmedabad         21\n",
       "Guwahati          21\n",
       "Lucknow           21\n",
       "Bhubaneshwar      21\n",
       "Amritsar          21\n",
       "Pune              20\n",
       "Puducherry        20\n",
       "Patna             20\n",
       "Ludhiana          20\n",
       "Ranchi            20\n",
       "Surat             20\n",
       "Vadodara          20\n",
       "Nashik            20\n",
       "Nagpur            20\n",
       "Mysore            20\n",
       "Mumbai            20\n",
       "Varanasi          20\n",
       "Mangalore         20\n",
       "Agra              20\n",
       "Kochi             20\n",
       "Kolkata           20\n",
       "Dehradun          20\n",
       "Allahabad         20\n",
       "Aurangabad        20\n",
       "Bangalore         20\n",
       "Bhopal            20\n",
       "Chennai           20\n",
       "Coimbatore        20\n",
       "Goa               20\n",
       "Indore            20\n",
       "Jaipur            20\n",
       "Kanpur            20\n",
       "Vizag             20\n",
       "Chandigarh        18\n",
       "Hyderabad         18\n",
       "Secunderabad       2\n",
       "Panchkula          1\n",
       "Mohali             1\n",
       "Name: count, dtype: int64"
      ]
     },
     "execution_count": 122,
     "metadata": {},
     "output_type": "execute_result"
    }
   ],
   "source": [
    "city_count"
   ]
  },
  {
   "cell_type": "code",
   "execution_count": 124,
   "id": "80a11a18-0ed7-4939-85f2-b95419b9331c",
   "metadata": {},
   "outputs": [
    {
     "data": {
      "text/plain": [
       "City\n",
       "New Delhi    5473\n",
       "Gurgaon      1118\n",
       "Noida        1080\n",
       "Faridabad     251\n",
       "Ghaziabad      25\n",
       "Name: count, dtype: int64"
      ]
     },
     "execution_count": 124,
     "metadata": {},
     "output_type": "execute_result"
    }
   ],
   "source": [
    "city_count[:5]"
   ]
  },
  {
   "cell_type": "code",
   "execution_count": 130,
   "id": "ea3c74f8-4085-49ad-8b7d-1e91dfc5dc1c",
   "metadata": {},
   "outputs": [
    {
     "data": {
      "text/plain": [
       "([<matplotlib.patches.Wedge at 0x1a3c56ec170>,\n",
       "  <matplotlib.patches.Wedge at 0x1a3c5723620>,\n",
       "  <matplotlib.patches.Wedge at 0x1a3c574e000>],\n",
       " [Text(-0.6836225695617262, 0.8617773392157762, 'New Delhi'),\n",
       "  Text(0.24897482286810813, -1.0714530029720364, 'Gurgaon'),\n",
       "  Text(0.9941442744692855, -0.47082604169686504, 'Noida')],\n",
       " [Text(-0.37288503794275973, 0.47006036684496877, '71.35%'),\n",
       "  Text(0.13580444883714987, -0.5844289107120197, '14.57%'),\n",
       "  Text(0.542260513346883, -0.25681420456192633, '14.08%')])"
      ]
     },
     "execution_count": 130,
     "metadata": {},
     "output_type": "execute_result"
    },
    {
     "data": {
      "image/png": "[encoded data removed]",
      "text/plain": [
       "<Figure size 640x480 with 1 Axes>"
      ]
     },
     "metadata": {},
     "output_type": "display_data"
    }
   ],
   "source": [
    "plt.pie(city_count.values[:3],\n",
    "       labels=city_count.index[:3],\n",
    "       autopct='%1.2f%%',\n",
    "       colors=['orange','red','green'])"
   ]
  },
  {
   "cell_type": "code",
   "execution_count": 132,
   "id": "2a440641-8fff-43b8-b65e-f0d62e31a79d",
   "metadata": {},
   "outputs": [
    {
     "name": "stderr",
     "output_type": "stream",
     "text": [
      "C:\\Users\\tejaswi raj\\AppData\\Local\\Temp\\ipykernel_19744\\1017788101.py:1: FutureWarning: \n",
      "\n",
      "Passing `palette` without assigning `hue` is deprecated and will be removed in v0.14.0. Assign the `y` variable to `hue` and set `legend=False` for the same effect.\n",
      "\n",
      "  sns.countplot(join_df['Rating_Schema'],\n"
     ]
    },
    {
     "data": {
      "text/plain": [
       "[]"
      ]
     },
     "execution_count": 132,
     "metadata": {},
     "output_type": "execute_result"
    },
    {
     "data": {
      "image/png": "[encoded data removed]",
      "text/plain": [
       "<Figure size 640x480 with 1 Axes>"
      ]
     },
     "metadata": {},
     "output_type": "display_data"
    }
   ],
   "source": [
    "sns.countplot(join_df['Rating_Schema'],\n",
    "               palette=['green','lightgreen','yellow','orange','gray','red'])\n",
    "\n",
    "plt.title('Rating_Schema_zomato')\n",
    "plt.plot()"
   ]
  },
  {
   "cell_type": "code",
   "execution_count": 136,
   "id": "b2afb177-c2af-479a-863b-d4ddf754595d",
   "metadata": {},
   "outputs": [
    {
     "name": "stderr",
     "output_type": "stream",
     "text": [
      "C:\\Users\\tejaswi raj\\AppData\\Local\\Temp\\ipykernel_19744\\3586560066.py:1: FutureWarning: \n",
      "\n",
      "Passing `palette` without assigning `hue` is deprecated and will be removed in v0.14.0. Assign the `y` variable to `hue` and set `legend=False` for the same effect.\n",
      "\n",
      "  sns.countplot(join_df['Accepts_Table_Booking'],\n"
     ]
    },
    {
     "data": {
      "text/plain": [
       "[]"
      ]
     },
     "execution_count": 136,
     "metadata": {},
     "output_type": "execute_result"
    },
    {
     "data": {
      "image/png": "[encoded data removed]",
      "text/plain": [
       "<Figure size 640x480 with 1 Axes>"
      ]
     },
     "metadata": {},
     "output_type": "display_data"
    }
   ],
   "source": [
    "sns.countplot(join_df['Accepts_Table_Booking'],\n",
    "               palette=['orange','red'])\n",
    "\n",
    "plt.title('Accepts_Table_Booking_zomato')\n",
    "plt.plot()"
   ]
  },
  {
   "cell_type": "code",
   "execution_count": 140,
   "id": "0ac7dd05-d058-4fea-a1ba-1f7cb5546cd6",
   "metadata": {},
   "outputs": [
    {
     "data": {
      "text/plain": [
       "Country\n",
       "Indonesia         281190.5\n",
       "Sri Lanka           2375.0\n",
       "Phillipines         1606.8\n",
       "India                623.4\n",
       "South Africa         419.7\n",
       "Qatar                223.8\n",
       "UAE                  166.4\n",
       "Singapore            155.8\n",
       "Brazil               134.7\n",
       "Turkey                84.9\n",
       "New Zealand           69.8\n",
       "United Kingdom        47.8\n",
       "Canada                36.2\n",
       "United States         26.2\n",
       "Australia             24.1\n",
       "Name: Avg_Cost, dtype: float64"
      ]
     },
     "execution_count": 140,
     "metadata": {},
     "output_type": "execute_result"
    }
   ],
   "source": [
    "# what is the avg cost for two as per the country\n",
    "\n",
    "join_df.groupby('Country')['Avg_Cost'].mean().sort_values(ascending=False).round(1)"
   ]
  },
  {
   "cell_type": "code",
   "execution_count": 144,
   "id": "57c5c50f-08c2-407d-9efe-fa0f3fd98643",
   "metadata": {},
   "outputs": [
    {
     "data": {
      "text/plain": [
       "City\n",
       "Panchkula       2000.000000\n",
       "Hyderabad       1361.111111\n",
       "Pune            1337.500000\n",
       "Jaipur          1310.000000\n",
       "Kolkata         1272.500000\n",
       "Bangalore       1232.500000\n",
       "Goa             1175.000000\n",
       "Ludhiana        1160.000000\n",
       "Chennai         1085.000000\n",
       "Mumbai          1072.500000\n",
       "Chandigarh      1072.222222\n",
       "Agra            1065.000000\n",
       "Indore           960.000000\n",
       "Kanpur           915.000000\n",
       "Lucknow          859.523810\n",
       "Ahmedabad        857.142857\n",
       "Puducherry       842.500000\n",
       "Secunderabad     825.000000\n",
       "Guwahati         821.428571\n",
       "Vadodara         820.000000\n",
       "Mysore           814.500000\n",
       "Surat            812.500000\n",
       "Patna            797.500000\n",
       "Mangalore        782.500000\n",
       "Coimbatore       782.500000\n",
       "Vizag            780.000000\n",
       "Ranchi           735.000000\n",
       "Kochi            730.000000\n",
       "Dehradun         727.500000\n",
       "Nagpur           715.000000\n",
       "Gurgaon          714.016100\n",
       "Bhubaneshwar     678.571429\n",
       "Nashik           662.500000\n",
       "Aurangabad       622.500000\n",
       "Bhopal           620.000000\n",
       "Ghaziabad        602.000000\n",
       "New Delhi        596.088069\n",
       "Mohali           550.000000\n",
       "Noida            539.490741\n",
       "Allahabad        517.500000\n",
       "Varanasi         505.000000\n",
       "Amritsar         480.952381\n",
       "Faridabad        447.609562\n",
       "Name: Avg_Cost, dtype: float64"
      ]
     },
     "execution_count": 144,
     "metadata": {},
     "output_type": "execute_result"
    }
   ],
   "source": [
    "indian_cities.groupby('City')['Avg_Cost'].mean().sort_values(ascending=False)"
   ]
  },
  {
   "cell_type": "code",
   "execution_count": 156,
   "id": "45df2456-9ba6-4d14-ae79-f770b9bfc759",
   "metadata": {},
   "outputs": [
    {
     "name": "stderr",
     "output_type": "stream",
     "text": [
      "C:\\Users\\tejaswi raj\\AppData\\Local\\Temp\\ipykernel_19744\\3870745612.py:6: FutureWarning: \n",
      "\n",
      "Passing `palette` without assigning `hue` is deprecated and will be removed in v0.14.0. Assign the `x` variable to `hue` and set `legend=False` for the same effect.\n",
      "\n",
      "  sns.countplot(x='Price range', data=join_df, palette='rocket_r')\n"
     ]
    },
    {
     "data": {
      "image/png": "[encoded data removed]",
      "text/plain": [
       "<Figure size 640x480 with 1 Axes>"
      ]
     },
     "metadata": {},
     "output_type": "display_data"
    }
   ],
   "source": [
    "#price range = \n",
    "import seaborn as sns\n",
    "import matplotlib.pyplot as plt\n",
    "\n",
    "# Create the countplot\n",
    "sns.countplot(x='Price range', data=join_df, palette='rocket_r')\n",
    "\n",
    "# Set the title\n",
    "plt.title('Price Range Distribution in Zomato')\n",
    "\n",
    "# Show the plot\n",
    "plt.show()"
   ]
  },
  {
   "cell_type": "code",
   "execution_count": null,
   "id": "f1c229e2-7ef3-47c2-8892-f606ddf3d6d4",
   "metadata": {},
   "outputs": [],
   "source": []
  }
 ],
 "metadata": {
  "kernelspec": {
   "display_name": "Python 3 (ipykernel)",
   "language": "python",
   "name": "python3"
  },
  "language_info": {
   "codemirror_mode": {
    "name": "ipython",
    "version": 3
   },
   "file_extension": ".py",
   "mimetype": "text/x-python",
   "name": "python",
   "nbconvert_exporter": "python",
   "pygments_lexer": "ipython3",
   "version": "3.12.4"
  }
 },
 "nbformat": 4,
 "nbformat_minor": 5
}
